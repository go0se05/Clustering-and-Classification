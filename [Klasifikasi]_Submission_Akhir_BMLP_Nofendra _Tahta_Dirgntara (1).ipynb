{
 "cells": [
  {
   "cell_type": "markdown",
   "metadata": {
    "id": "fKADPWcFKlj3"
   },
   "source": [
    "# **1. Import Library**"
   ]
  },
  {
   "cell_type": "markdown",
   "metadata": {
    "id": "LgA3ERnVn84N"
   },
   "source": [
    "Pada tahap ini, Anda perlu mengimpor beberapa pustaka (library) Python yang dibutuhkan untuk analisis data dan pembangunan model machine learning."
   ]
  },
  {
   "cell_type": "code",
   "execution_count": 4,
   "metadata": {
    "id": "BlmvjLY9M4Yj"
   },
   "outputs": [],
   "source": [
    "import pandas as pd\n",
    "import numpy as np\n",
    "import seaborn as sns\n",
    "import matplotlib.pyplot as plt\n",
    "from sklearn.model_selection import train_test_split\n",
    "from sklearn.preprocessing import LabelEncoder, StandardScaler, MinMaxScaler\n",
    "from sklearn.neighbors import KNeighborsClassifier\n",
    "from sklearn.tree import DecisionTreeClassifier\n",
    "from sklearn.ensemble import RandomForestClassifier\n",
    "from sklearn.svm import SVC\n",
    "from sklearn.naive_bayes import GaussianNB\n",
    "from sklearn.metrics import confusion_matrix, accuracy_score, precision_score, recall_score, f1_score"
   ]
  },
  {
   "cell_type": "markdown",
   "metadata": {
    "id": "f3YIEnAFKrKL"
   },
   "source": [
    "# **2. Memuat Dataset dari Hasil Clustering**"
   ]
  },
  {
   "cell_type": "markdown",
   "metadata": {
    "id": "Ey3ItwTen_7E"
   },
   "source": [
    "Memuat dataset hasil clustering dari file CSV ke dalam variabel DataFrame."
   ]
  },
  {
   "cell_type": "code",
   "execution_count": 7,
   "metadata": {
    "id": "GHCGNTyrM5fS"
   },
   "outputs": [
    {
     "data": {
      "text/html": [
       "<div>\n",
       "<style scoped>\n",
       "    .dataframe tbody tr th:only-of-type {\n",
       "        vertical-align: middle;\n",
       "    }\n",
       "\n",
       "    .dataframe tbody tr th {\n",
       "        vertical-align: top;\n",
       "    }\n",
       "\n",
       "    .dataframe thead th {\n",
       "        text-align: right;\n",
       "    }\n",
       "</style>\n",
       "<table border=\"1\" class=\"dataframe\">\n",
       "  <thead>\n",
       "    <tr style=\"text-align: right;\">\n",
       "      <th></th>\n",
       "      <th>Ship_Type</th>\n",
       "      <th>Route_Type</th>\n",
       "      <th>Engine_Type</th>\n",
       "      <th>Maintenance_Status</th>\n",
       "      <th>Speed_Over_Ground_knots</th>\n",
       "      <th>Engine_Power_kW</th>\n",
       "      <th>Distance_Traveled_nm</th>\n",
       "      <th>Draft_meters</th>\n",
       "      <th>Weather_Condition</th>\n",
       "      <th>Cargo_Weight_tons</th>\n",
       "      <th>Operational_Cost_USD</th>\n",
       "      <th>Revenue_per_Voyage_USD</th>\n",
       "      <th>Turnaround_Time_hours</th>\n",
       "      <th>Efficiency_nm_per_kWh</th>\n",
       "      <th>Seasonal_Impact_Score</th>\n",
       "      <th>Weekly_Voyage_Count</th>\n",
       "      <th>Average_Load_Percentage</th>\n",
       "      <th>Cluster</th>\n",
       "    </tr>\n",
       "  </thead>\n",
       "  <tbody>\n",
       "    <tr>\n",
       "      <th>0</th>\n",
       "      <td>Fish Carrier</td>\n",
       "      <td>Short-haul</td>\n",
       "      <td>Steam Turbine</td>\n",
       "      <td>Good</td>\n",
       "      <td>10.387580</td>\n",
       "      <td>1796.057415</td>\n",
       "      <td>1060.486382</td>\n",
       "      <td>14.653083</td>\n",
       "      <td>Rough</td>\n",
       "      <td>162.394712</td>\n",
       "      <td>483388.000509</td>\n",
       "      <td>883765.787360</td>\n",
       "      <td>63.248196</td>\n",
       "      <td>0.290361</td>\n",
       "      <td>0.885648</td>\n",
       "      <td>6</td>\n",
       "      <td>93.895372</td>\n",
       "      <td>3</td>\n",
       "    </tr>\n",
       "    <tr>\n",
       "      <th>1</th>\n",
       "      <td>Container Ship</td>\n",
       "      <td>Long-haul</td>\n",
       "      <td>Diesel</td>\n",
       "      <td>Fair</td>\n",
       "      <td>20.749747</td>\n",
       "      <td>1648.556685</td>\n",
       "      <td>658.874144</td>\n",
       "      <td>7.199261</td>\n",
       "      <td>Moderate</td>\n",
       "      <td>178.040917</td>\n",
       "      <td>448543.404044</td>\n",
       "      <td>394018.746904</td>\n",
       "      <td>49.418150</td>\n",
       "      <td>0.499595</td>\n",
       "      <td>1.405813</td>\n",
       "      <td>9</td>\n",
       "      <td>96.218244</td>\n",
       "      <td>0</td>\n",
       "    </tr>\n",
       "    <tr>\n",
       "      <th>2</th>\n",
       "      <td>Bulk Carrier</td>\n",
       "      <td>Transoceanic</td>\n",
       "      <td>Steam Turbine</td>\n",
       "      <td>Fair</td>\n",
       "      <td>21.055102</td>\n",
       "      <td>915.261795</td>\n",
       "      <td>1126.822519</td>\n",
       "      <td>11.789063</td>\n",
       "      <td>Moderate</td>\n",
       "      <td>1737.385346</td>\n",
       "      <td>261349.605449</td>\n",
       "      <td>87551.375175</td>\n",
       "      <td>22.409110</td>\n",
       "      <td>0.702906</td>\n",
       "      <td>1.370704</td>\n",
       "      <td>1</td>\n",
       "      <td>66.193698</td>\n",
       "      <td>2</td>\n",
       "    </tr>\n",
       "    <tr>\n",
       "      <th>3</th>\n",
       "      <td>Fish Carrier</td>\n",
       "      <td>Transoceanic</td>\n",
       "      <td>Diesel</td>\n",
       "      <td>Fair</td>\n",
       "      <td>13.742777</td>\n",
       "      <td>1089.721803</td>\n",
       "      <td>1445.281159</td>\n",
       "      <td>9.727833</td>\n",
       "      <td>Moderate</td>\n",
       "      <td>260.595103</td>\n",
       "      <td>287718.375160</td>\n",
       "      <td>676121.459632</td>\n",
       "      <td>64.158231</td>\n",
       "      <td>1.331343</td>\n",
       "      <td>0.583383</td>\n",
       "      <td>8</td>\n",
       "      <td>80.008581</td>\n",
       "      <td>3</td>\n",
       "    </tr>\n",
       "    <tr>\n",
       "      <th>4</th>\n",
       "      <td>Fish Carrier</td>\n",
       "      <td>Long-haul</td>\n",
       "      <td>Heavy Fuel Oil (HFO)</td>\n",
       "      <td>Fair</td>\n",
       "      <td>18.616196</td>\n",
       "      <td>2171.646567</td>\n",
       "      <td>723.304215</td>\n",
       "      <td>14.916320</td>\n",
       "      <td>Rough</td>\n",
       "      <td>1912.509751</td>\n",
       "      <td>184569.045384</td>\n",
       "      <td>776698.354849</td>\n",
       "      <td>47.476155</td>\n",
       "      <td>1.370206</td>\n",
       "      <td>1.437725</td>\n",
       "      <td>7</td>\n",
       "      <td>53.174898</td>\n",
       "      <td>1</td>\n",
       "    </tr>\n",
       "  </tbody>\n",
       "</table>\n",
       "</div>"
      ],
      "text/plain": [
       "        Ship_Type    Route_Type           Engine_Type Maintenance_Status  \\\n",
       "0    Fish Carrier    Short-haul         Steam Turbine               Good   \n",
       "1  Container Ship     Long-haul                Diesel               Fair   \n",
       "2    Bulk Carrier  Transoceanic         Steam Turbine               Fair   \n",
       "3    Fish Carrier  Transoceanic                Diesel               Fair   \n",
       "4    Fish Carrier     Long-haul  Heavy Fuel Oil (HFO)               Fair   \n",
       "\n",
       "   Speed_Over_Ground_knots  Engine_Power_kW  Distance_Traveled_nm  \\\n",
       "0                10.387580      1796.057415           1060.486382   \n",
       "1                20.749747      1648.556685            658.874144   \n",
       "2                21.055102       915.261795           1126.822519   \n",
       "3                13.742777      1089.721803           1445.281159   \n",
       "4                18.616196      2171.646567            723.304215   \n",
       "\n",
       "   Draft_meters Weather_Condition  Cargo_Weight_tons  Operational_Cost_USD  \\\n",
       "0     14.653083             Rough         162.394712         483388.000509   \n",
       "1      7.199261          Moderate         178.040917         448543.404044   \n",
       "2     11.789063          Moderate        1737.385346         261349.605449   \n",
       "3      9.727833          Moderate         260.595103         287718.375160   \n",
       "4     14.916320             Rough        1912.509751         184569.045384   \n",
       "\n",
       "   Revenue_per_Voyage_USD  Turnaround_Time_hours  Efficiency_nm_per_kWh  \\\n",
       "0           883765.787360              63.248196               0.290361   \n",
       "1           394018.746904              49.418150               0.499595   \n",
       "2            87551.375175              22.409110               0.702906   \n",
       "3           676121.459632              64.158231               1.331343   \n",
       "4           776698.354849              47.476155               1.370206   \n",
       "\n",
       "   Seasonal_Impact_Score  Weekly_Voyage_Count  Average_Load_Percentage  \\\n",
       "0               0.885648                    6                93.895372   \n",
       "1               1.405813                    9                96.218244   \n",
       "2               1.370704                    1                66.193698   \n",
       "3               0.583383                    8                80.008581   \n",
       "4               1.437725                    7                53.174898   \n",
       "\n",
       "   Cluster  \n",
       "0        3  \n",
       "1        0  \n",
       "2        2  \n",
       "3        3  \n",
       "4        1  "
      ]
     },
     "execution_count": 7,
     "metadata": {},
     "output_type": "execute_result"
    }
   ],
   "source": [
    "df = pd.read_csv(\"data/data_clustered.csv\")\n",
    "X = df.drop(columns=('Cluster'))\n",
    "Y = df['Cluster']\n",
    "df.head()"
   ]
  },
  {
   "cell_type": "code",
   "execution_count": 8,
   "metadata": {},
   "outputs": [
    {
     "name": "stdout",
     "output_type": "stream",
     "text": [
      "<class 'pandas.core.frame.DataFrame'>\n",
      "RangeIndex: 2127 entries, 0 to 2126\n",
      "Data columns (total 17 columns):\n",
      " #   Column                   Non-Null Count  Dtype  \n",
      "---  ------                   --------------  -----  \n",
      " 0   Ship_Type                2127 non-null   object \n",
      " 1   Route_Type               2127 non-null   object \n",
      " 2   Engine_Type              2127 non-null   object \n",
      " 3   Maintenance_Status       2127 non-null   object \n",
      " 4   Speed_Over_Ground_knots  2127 non-null   float64\n",
      " 5   Engine_Power_kW          2127 non-null   float64\n",
      " 6   Distance_Traveled_nm     2127 non-null   float64\n",
      " 7   Draft_meters             2127 non-null   float64\n",
      " 8   Weather_Condition        2127 non-null   object \n",
      " 9   Cargo_Weight_tons        2127 non-null   float64\n",
      " 10  Operational_Cost_USD     2127 non-null   float64\n",
      " 11  Revenue_per_Voyage_USD   2127 non-null   float64\n",
      " 12  Turnaround_Time_hours    2127 non-null   float64\n",
      " 13  Efficiency_nm_per_kWh    2127 non-null   float64\n",
      " 14  Seasonal_Impact_Score    2127 non-null   float64\n",
      " 15  Weekly_Voyage_Count      2127 non-null   int64  \n",
      " 16  Average_Load_Percentage  2127 non-null   float64\n",
      "dtypes: float64(11), int64(1), object(5)\n",
      "memory usage: 282.6+ KB\n"
     ]
    }
   ],
   "source": [
    "X.info()"
   ]
  },
  {
   "cell_type": "code",
   "execution_count": 9,
   "metadata": {},
   "outputs": [
    {
     "name": "stdout",
     "output_type": "stream",
     "text": [
      "<class 'pandas.core.series.Series'>\n",
      "RangeIndex: 2127 entries, 0 to 2126\n",
      "Series name: Cluster\n",
      "Non-Null Count  Dtype\n",
      "--------------  -----\n",
      "2127 non-null   int64\n",
      "dtypes: int64(1)\n",
      "memory usage: 16.7 KB\n"
     ]
    }
   ],
   "source": [
    "Y.info()"
   ]
  },
  {
   "cell_type": "markdown",
   "metadata": {
    "id": "KkPem5eWL2UP"
   },
   "source": [
    "# **3. Data Splitting**"
   ]
  },
  {
   "cell_type": "markdown",
   "metadata": {
    "id": "YYj1rl_JNI9Y"
   },
   "source": [
    "Tahap Data Splitting bertujuan untuk memisahkan dataset menjadi dua bagian: data latih (training set) dan data uji (test set)."
   ]
  },
  {
   "cell_type": "code",
   "execution_count": null,
   "metadata": {},
   "outputs": [],
   "source": []
  },
  {
   "cell_type": "code",
   "execution_count": 12,
   "metadata": {
    "id": "OubAW-7ONKVj"
   },
   "outputs": [
    {
     "name": "stdout",
     "output_type": "stream",
     "text": [
      "Training set shape: X_train=(1701, 5), y_train=(1701,)\n",
      "Test set shape: X_test=(426, 5), y_test=(426,)\n"
     ]
    }
   ],
   "source": [
    "# Buat instance MinMaxScaler\n",
    "scaler = MinMaxScaler()\n",
    " \n",
    "# Normalisasi semua kolom numerik\n",
    "numeric_columns = X.select_dtypes(include=['int64', 'float64']).columns\n",
    "df[numeric_columns] = scaler.fit_transform(df[numeric_columns])\n",
    "\n",
    "categorical_columns = X.select_dtypes(include='object').columns.tolist()\n",
    "label_encoders = {}\n",
    "for col in categorical_columns:\n",
    "    le = LabelEncoder()\n",
    "    X[col] = le.fit_transform(X[col])\n",
    "    label_encoders[col] = le  \n",
    " \n",
    "# Pisahkan fitur (X) dan target (y)\n",
    "keep_columns = ['Ship_Type', 'Route_Type', 'Weather_Condition', 'Cargo_Weight_tons', 'Turnaround_Time_hours']\n",
    "\n",
    "# Menghapus semua kolom kecuali yang ingin dipertahankan\n",
    "X_filtered = X[keep_columns]\n",
    "\n",
    "X = X_filtered\n",
    "\n",
    "# Split data menjadi set pelatihan dan set uji\n",
    "X_train, X_test, y_train, y_test = train_test_split(X, Y, test_size=0.2, random_state=42)\n",
    " \n",
    "# Tampilkan bentuk set pelatihan dan set uji untuk memastikan split\n",
    "print(f\"Training set shape: X_train={X_train.shape}, y_train={y_train.shape}\")\n",
    "print(f\"Test set shape: X_test={X_test.shape}, y_test={y_test.shape}\")"
   ]
  },
  {
   "cell_type": "code",
   "execution_count": 13,
   "metadata": {},
   "outputs": [
    {
     "name": "stdout",
     "output_type": "stream",
     "text": [
      "<class 'pandas.core.frame.DataFrame'>\n",
      "RangeIndex: 2127 entries, 0 to 2126\n",
      "Data columns (total 5 columns):\n",
      " #   Column                 Non-Null Count  Dtype  \n",
      "---  ------                 --------------  -----  \n",
      " 0   Ship_Type              2127 non-null   int32  \n",
      " 1   Route_Type             2127 non-null   int32  \n",
      " 2   Weather_Condition      2127 non-null   int32  \n",
      " 3   Cargo_Weight_tons      2127 non-null   float64\n",
      " 4   Turnaround_Time_hours  2127 non-null   float64\n",
      "dtypes: float64(2), int32(3)\n",
      "memory usage: 58.3 KB\n"
     ]
    }
   ],
   "source": [
    "X.info()"
   ]
  },
  {
   "cell_type": "markdown",
   "metadata": {
    "id": "IVPbB03CMhTT"
   },
   "source": [
    "# **4. Membangun Model Klasifikasi**\n"
   ]
  },
  {
   "cell_type": "markdown",
   "metadata": {
    "id": "Ned1pL9zMmBK"
   },
   "source": [
    "## **a. Membangun Model Klasifikasi**"
   ]
  },
  {
   "cell_type": "markdown",
   "metadata": {
    "id": "WAWzPOE4Nkti"
   },
   "source": [
    "Setelah memilih algoritma klasifikasi yang sesuai, langkah selanjutnya adalah melatih model menggunakan data latih.\n",
    "\n",
    "Berikut adalah rekomendasi tahapannya.\n",
    "1. Pilih algoritma klasifikasi yang sesuai, seperti Logistic Regression, Decision Tree, Random Forest, atau K-Nearest Neighbors (KNN).\n",
    "2. Latih model menggunakan data latih."
   ]
  },
  {
   "cell_type": "code",
   "execution_count": 57,
   "metadata": {
    "id": "4JYxBe87NLDk"
   },
   "outputs": [
    {
     "name": "stdout",
     "output_type": "stream",
     "text": [
      "Model training selesai.\n"
     ]
    }
   ],
   "source": [
    "dt = DecisionTreeClassifier().fit(X_train, y_train)\n",
    "rf = RandomForestClassifier().fit(X_train, y_train)\n",
    "\n",
    "print(\"Model training selesai.\")"
   ]
  },
  {
   "cell_type": "markdown",
   "metadata": {
    "id": "seYoHNY3XU1y"
   },
   "source": [
    "Tulis narasi atau penjelasan algoritma yang Anda gunakan."
   ]
  },
  {
   "cell_type": "markdown",
   "metadata": {
    "id": "ergzChZFEL-O"
   },
   "source": [
    "## **b. Evaluasi Model Klasifikasi**"
   ]
  },
  {
   "cell_type": "markdown",
   "metadata": {
    "id": "zOm68u-7NpLT"
   },
   "source": [
    "Berikut adalah **rekomendasi** tahapannya.\n",
    "1. Lakukan prediksi menggunakan data uji.\n",
    "2. Hitung metrik evaluasi seperti Accuracy dan F1-Score (Opsional: Precision dan Recall).\n",
    "3. Buat confusion matrix untuk melihat detail prediksi benar dan salah."
   ]
  },
  {
   "cell_type": "code",
   "execution_count": 62,
   "metadata": {},
   "outputs": [
    {
     "data": {
      "text/html": [
       "<div>\n",
       "<style scoped>\n",
       "    .dataframe tbody tr th:only-of-type {\n",
       "        vertical-align: middle;\n",
       "    }\n",
       "\n",
       "    .dataframe tbody tr th {\n",
       "        vertical-align: top;\n",
       "    }\n",
       "\n",
       "    .dataframe thead th {\n",
       "        text-align: right;\n",
       "    }\n",
       "</style>\n",
       "<table border=\"1\" class=\"dataframe\">\n",
       "  <thead>\n",
       "    <tr style=\"text-align: right;\">\n",
       "      <th></th>\n",
       "      <th>Model</th>\n",
       "      <th>Accuracy</th>\n",
       "      <th>Precision</th>\n",
       "      <th>Recall</th>\n",
       "      <th>F1-Score</th>\n",
       "    </tr>\n",
       "  </thead>\n",
       "  <tbody>\n",
       "    <tr>\n",
       "      <th>0</th>\n",
       "      <td>Decision Tree (DT)</td>\n",
       "      <td>0.995305</td>\n",
       "      <td>0.995399</td>\n",
       "      <td>0.995305</td>\n",
       "      <td>0.995318</td>\n",
       "    </tr>\n",
       "    <tr>\n",
       "      <th>1</th>\n",
       "      <td>Random Forest (RF)</td>\n",
       "      <td>0.995305</td>\n",
       "      <td>0.995399</td>\n",
       "      <td>0.995305</td>\n",
       "      <td>0.995318</td>\n",
       "    </tr>\n",
       "  </tbody>\n",
       "</table>\n",
       "</div>"
      ],
      "text/plain": [
       "                Model  Accuracy  Precision    Recall  F1-Score\n",
       "0  Decision Tree (DT)  0.995305   0.995399  0.995305  0.995318\n",
       "1  Random Forest (RF)  0.995305   0.995399  0.995305  0.995318"
      ]
     },
     "execution_count": 62,
     "metadata": {},
     "output_type": "execute_result"
    }
   ],
   "source": [
    "def evaluate_model(model, X_test, y_test):\n",
    "    y_pred = model.predict(X_test)\n",
    "    cm = confusion_matrix(y_test, y_pred)\n",
    "    results = {\n",
    "        'Confusion Matrix': cm,\n",
    "        'Accuracy': accuracy_score(y_test, y_pred),\n",
    "        'Precision': precision_score(y_test, y_pred, average='weighted', zero_division=1),\n",
    "        'Recall': recall_score(y_test, y_pred, average='weighted', zero_division=1),\n",
    "        'F1-Score': f1_score(y_test, y_pred, average='weighted')\n",
    "    }\n",
    "    return results\n",
    "\n",
    "# Update your model evaluation results dictionary\n",
    "results = {\n",
    "    'Decision Tree (DT)': evaluate_model(dt, X_test, y_test),\n",
    "    'Random Forest (RF)': evaluate_model(rf, X_test, y_test),\n",
    "    }\n",
    "\n",
    "# Summarize the results in a DataFrame\n",
    "summary_df = pd.DataFrame(columns=['Model', 'Accuracy', 'Precision', 'Recall', 'F1-Score'])\n",
    "\n",
    "rows = []\n",
    "for model_name, metrics in results.items():\n",
    "    rows.append({\n",
    "        'Model': model_name,\n",
    "        'Accuracy': metrics['Accuracy'],\n",
    "        'Precision': metrics['Precision'],\n",
    "        'Recall': metrics['Recall'],\n",
    "        'F1-Score': metrics['F1-Score']\n",
    "    })\n",
    "\n",
    "summary_df = pd.DataFrame(rows)\n",
    "\n",
    "# Print the summary DataFrame\n",
    "summary_df"
   ]
  },
  {
   "cell_type": "code",
   "execution_count": 66,
   "metadata": {},
   "outputs": [
    {
     "data": {
      "image/png": "[encoded data removed]",
      "text/plain": [
       "<Figure size 600x800 with 4 Axes>"
      ]
     },
     "metadata": {},
     "output_type": "display_data"
    }
   ],
   "source": [
    "num_models = len(results)\n",
    "fig, axes = plt.subplots(nrows=num_models, figsize=(6, 4 * num_models))\n",
    "\n",
    "# Pastikan axes berbentuk list jika hanya ada satu model\n",
    "if num_models == 1:\n",
    "    axes = [axes]\n",
    "\n",
    "for ax, (model_name, metrics) in zip(axes, results.items()):\n",
    "    cm = metrics['Confusion Matrix']\n",
    "    \n",
    "    sns.heatmap(cm, annot=True, fmt='d', cmap='Blues', xticklabels=['Negatif', 'Positif'], yticklabels=['Negatif', 'Positif'], ax=ax)\n",
    "    \n",
    "    ax.set_title(f'Confusion Matrix - {model_name}')\n",
    "    ax.set_xlabel(\"Predicted Label\")\n",
    "    ax.set_ylabel(\"True Label\")\n",
    "\n",
    "plt.tight_layout()\n",
    "plt.show()"
   ]
  },
  {
   "cell_type": "markdown",
   "metadata": {
    "id": "H4_9OwrsXZlz"
   },
   "source": [
    "Tulis hasil evaluasi algoritma yang digunakan, jika Anda menggunakan 2 algoritma, maka bandingkan hasilnya."
   ]
  },
  {
   "cell_type": "markdown",
   "metadata": {
    "id": "ph9yIYDXEPuB"
   },
   "source": [
    "## **c. Tuning Model Klasifikasi (Optional)**"
   ]
  },
  {
   "cell_type": "markdown",
   "metadata": {
    "id": "-Bikx3LINv5e"
   },
   "source": [
    "Gunakan GridSearchCV, RandomizedSearchCV, atau metode lainnya untuk mencari kombinasi hyperparameter terbaik"
   ]
  },
  {
   "cell_type": "code",
   "execution_count": 25,
   "metadata": {
    "id": "winbFzb8NL95"
   },
   "outputs": [],
   "source": [
    "#Type your code here"
   ]
  },
  {
   "cell_type": "markdown",
   "metadata": {
    "id": "hE7pqlEPEYzI"
   },
   "source": [
    "## **d. Evaluasi Model Klasifikasi setelah Tuning (Optional)**"
   ]
  },
  {
   "cell_type": "markdown",
   "metadata": {
    "id": "feaPESoeN0zz"
   },
   "source": [
    "Berikut adalah rekomendasi tahapannya.\n",
    "1. Gunakan model dengan hyperparameter terbaik.\n",
    "2. Hitung ulang metrik evaluasi untuk melihat apakah ada peningkatan performa."
   ]
  },
  {
   "cell_type": "code",
   "execution_count": 28,
   "metadata": {
    "id": "HTXZRvEeNMb1"
   },
   "outputs": [],
   "source": []
  },
  {
   "cell_type": "markdown",
   "metadata": {
    "id": "ZRsOdm4uEgAW"
   },
   "source": [
    "## **e. Analisis Hasil Evaluasi Model Klasifikasi**"
   ]
  },
  {
   "cell_type": "markdown",
   "metadata": {
    "id": "Hm3BhSi6N4_l"
   },
   "source": [
    "Berikut adalah **rekomendasi** tahapannya.\n",
    "1. Bandingkan hasil evaluasi sebelum dan setelah tuning (jika dilakukan).\n",
    "2. Identifikasi kelemahan model, seperti:\n",
    "  - Precision atau Recall rendah untuk kelas tertentu.\n",
    "  - Apakah model mengalami overfitting atau underfitting?\n",
    "3. Berikan rekomendasi tindakan lanjutan, seperti mengumpulkan data tambahan atau mencoba algoritma lain jika hasil belum memuaskan."
   ]
  },
  {
   "cell_type": "markdown",
   "metadata": {},
   "source": [
    "### **Hasil Evaluasi Model Klasifikasi**  \n",
    "\n",
    "Setelah melatih dua model klasifikasi yang berbeda, performa setiap model dievaluasi menggunakan metrik **Accuracy, Precision, Recall, dan F1-Score**. Berikut adalah analisis dari hasil evaluasi tersebut:  \n",
    "\n",
    "#### **1. Decision Tree (DT)**  \n",
    "- **Accuracy:** 99.53%  \n",
    "- **Precision:** 99.54%  \n",
    "- **Recall:** 99.53%  \n",
    "- **F1-Score:** 99.53%  \n",
    "- **Analisis:**  \n",
    "  Decision Tree menunjukkan performa yang sangat tinggi, dengan accuracy, precision, recall, dan F1-score yang hampir sempurna. Model ini mudah diinterpretasikan, tetapi memiliki risiko **overfitting**, terutama jika tidak dilakukan pruning atau optimasi lebih lanjut.  \n",
    "\n",
    "#### **2. Random Forest (RF)**  \n",
    "- **Accuracy:** 99.53%  \n",
    "- **Precision:** 99.54%  \n",
    "- **Recall:** 99.53%  \n",
    "- **F1-Score:** 99.53%  \n",
    "- **Analisis:**  \n",
    "  Random Forest memberikan hasil yang identik dengan Decision Tree. Sebagai metode **ensemble learning**, Random Forest biasanya lebih stabil dan lebih tahan terhadap overfitting dibandingkan Decision Tree, karena menggabungkan banyak pohon keputusan untuk mendapatkan prediksi yang lebih andal.  \n",
    "\n",
    "### **Kesimpulan:**  \n",
    "Berdasarkan hasil evaluasi, **Decision Tree dan Random Forest memberikan hasil yang identik**, dengan accuracy **99.53%** serta precision, recall, dan F1-score yang sangat tinggi.  \n",
    "\n",
    "- **Decision Tree** cocok jika interpretabilitas sangat dibutuhkan, tetapi lebih rentan terhadap overfitting.  \n",
    "- **Random Forest** lebih robust karena mengurangi kemungkinan overfitting melalui kombinasi beberapa pohon keputusan.  \n",
    "\n",
    "Jika mempertimbangkan keseimbangan antara **akurat, stabil, dan mudah diinterpretasikan**, **Random Forest menjadi pilihan yang lebih aman**, terutama untuk skenario produksi. Namun, jika kecepatan inferensi dan interpretabilitas lebih diutamakan, **Decision Tree bisa menjadi pilihan yang baik**. 🚀"
   ]
  }
 ],
 "metadata": {
  "colab": {
   "provenance": []
  },
  "kernelspec": {
   "display_name": "Python 3 (ipykernel)",
   "language": "python",
   "name": "python3"
  },
  "language_info": {
   "codemirror_mode": {
    "name": "ipython",
    "version": 3
   },
   "file_extension": ".py",
   "mimetype": "text/x-python",
   "name": "python",
   "nbconvert_exporter": "python",
   "pygments_lexer": "ipython3",
   "version": "3.12.7"
  }
 },
 "nbformat": 4,
 "nbformat_minor": 4
}
